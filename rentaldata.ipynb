{
 "cells": [
  {
   "cell_type": "markdown",
   "metadata": {
    "id": "3zUYNjdro_KA"
   },
   "source": [
    " if first_card_container:\n",
    "              card1=card.find('div', class_='mb-srp__card')\n",
    "               if card1:mb-srp__card\n"
   ]
  },
  {
   "cell_type": "markdown",
   "metadata": {
    "id": "o5XvLbn1lxd_"
   },
   "source": [
    "This notebook is created in Google Colab and is designed to scrape property rate trends from the **Magic Bricks** website. The data focuses on the **prices** and **quarterly growth** of **residential properties** in **Chennai.\n",
    "\n",
    "**\n",
    "\n",
    "**Key Features of the Code:**\n",
    "\n",
    "**1. Data Scraping:**\n",
    "\n",
    "* The code extracts data from the Magic Bricks website using the requests and BeautifulSoup libraries.\n",
    "* It captures detailed information, including property prices and their growth trends, by parsing tables from the webpage.\n",
    "\n",
    "**2. Handling Multiple Pages:**\n",
    "\n",
    "* The code efficiently handles data from multiple pages of the website.\n",
    "* A loop iterates through the pages to combine the data into a single comprehensive dataset.\n",
    "**3. Data Aggregation:**\n",
    "* The scraped data from each page is stored in a Pandas DataFrame.\n",
    "* All the data is merged into a single DataFrame (combined_df) for seamless analysis."
   ]
  },
  {
   "cell_type": "markdown",
   "metadata": {
    "id": "QpBQAu3SkXEu"
   },
   "source": [
    "Installing the Python libraries using the pip package manager:"
   ]
  },
  {
   "cell_type": "code",
   "execution_count": 2,
   "metadata": {
    "colab": {
     "base_uri": "https://localhost:8080/"
    },
    "id": "lgUMGUyWteOW",
    "outputId": "d42acd09-5004-4816-ee28-8605a3c88b14"
   },
   "outputs": [
    {
     "name": "stdout",
     "output_type": "stream",
     "text": [
      "Requirement already satisfied: requests in c:\\users\\megha\\anaconda3\\lib\\site-packages (2.31.0)\n",
      "Requirement already satisfied: charset-normalizer<4,>=2 in c:\\users\\megha\\anaconda3\\lib\\site-packages (from requests) (2.0.4)\n",
      "Requirement already satisfied: idna<4,>=2.5 in c:\\users\\megha\\anaconda3\\lib\\site-packages (from requests) (3.4)\n",
      "Requirement already satisfied: urllib3<3,>=1.21.1 in c:\\users\\megha\\anaconda3\\lib\\site-packages (from requests) (1.26.18)\n",
      "Requirement already satisfied: certifi>=2017.4.17 in c:\\users\\megha\\anaconda3\\lib\\site-packages (from requests) (2024.2.2)\n",
      "Requirement already satisfied: beautifulsoup4 in c:\\users\\megha\\anaconda3\\lib\\site-packages (4.12.2)\n",
      "Requirement already satisfied: soupsieve>1.2 in c:\\users\\megha\\anaconda3\\lib\\site-packages (from beautifulsoup4) (2.5)\n",
      "Requirement already satisfied: pandas in c:\\users\\megha\\anaconda3\\lib\\site-packages (2.1.4)\n",
      "Requirement already satisfied: numpy<2,>=1.23.2 in c:\\users\\megha\\anaconda3\\lib\\site-packages (from pandas) (1.24.3)\n",
      "Requirement already satisfied: python-dateutil>=2.8.2 in c:\\users\\megha\\anaconda3\\lib\\site-packages (from pandas) (2.8.2)\n",
      "Requirement already satisfied: pytz>=2020.1 in c:\\users\\megha\\anaconda3\\lib\\site-packages (from pandas) (2023.3.post1)\n",
      "Requirement already satisfied: tzdata>=2022.1 in c:\\users\\megha\\anaconda3\\lib\\site-packages (from pandas) (2023.3)\n",
      "Requirement already satisfied: six>=1.5 in c:\\users\\megha\\anaconda3\\lib\\site-packages (from python-dateutil>=2.8.2->pandas) (1.16.0)\n",
      "Requirement already satisfied: selenium in c:\\users\\megha\\anaconda3\\lib\\site-packages (4.30.0)\n",
      "Requirement already satisfied: urllib3<3,>=1.26 in c:\\users\\megha\\anaconda3\\lib\\site-packages (from urllib3[socks]<3,>=1.26->selenium) (1.26.18)\n",
      "Requirement already satisfied: trio~=0.17 in c:\\users\\megha\\anaconda3\\lib\\site-packages (from selenium) (0.29.0)\n",
      "Requirement already satisfied: trio-websocket~=0.9 in c:\\users\\megha\\anaconda3\\lib\\site-packages (from selenium) (0.12.2)\n",
      "Requirement already satisfied: certifi>=2021.10.8 in c:\\users\\megha\\anaconda3\\lib\\site-packages (from selenium) (2024.2.2)\n",
      "Requirement already satisfied: typing_extensions~=4.9 in c:\\users\\megha\\anaconda3\\lib\\site-packages (from selenium) (4.12.2)\n",
      "Requirement already satisfied: websocket-client~=1.8 in c:\\users\\megha\\anaconda3\\lib\\site-packages (from selenium) (1.8.0)\n",
      "Requirement already satisfied: attrs>=23.2.0 in c:\\users\\megha\\anaconda3\\lib\\site-packages (from trio~=0.17->selenium) (25.3.0)\n",
      "Requirement already satisfied: sortedcontainers in c:\\users\\megha\\anaconda3\\lib\\site-packages (from trio~=0.17->selenium) (2.4.0)\n",
      "Requirement already satisfied: idna in c:\\users\\megha\\anaconda3\\lib\\site-packages (from trio~=0.17->selenium) (3.4)\n",
      "Requirement already satisfied: outcome in c:\\users\\megha\\anaconda3\\lib\\site-packages (from trio~=0.17->selenium) (1.3.0.post0)\n",
      "Requirement already satisfied: sniffio>=1.3.0 in c:\\users\\megha\\anaconda3\\lib\\site-packages (from trio~=0.17->selenium) (1.3.1)\n",
      "Requirement already satisfied: cffi>=1.14 in c:\\users\\megha\\anaconda3\\lib\\site-packages (from trio~=0.17->selenium) (1.16.0)\n",
      "Requirement already satisfied: wsproto>=0.14 in c:\\users\\megha\\anaconda3\\lib\\site-packages (from trio-websocket~=0.9->selenium) (1.2.0)\n",
      "Requirement already satisfied: PySocks!=1.5.7,<2.0,>=1.5.6 in c:\\users\\megha\\anaconda3\\lib\\site-packages (from urllib3[socks]<3,>=1.26->selenium) (1.7.1)\n",
      "Requirement already satisfied: pycparser in c:\\users\\megha\\anaconda3\\lib\\site-packages (from cffi>=1.14->trio~=0.17->selenium) (2.21)\n",
      "Requirement already satisfied: h11<1,>=0.9.0 in c:\\users\\megha\\anaconda3\\lib\\site-packages (from wsproto>=0.14->trio-websocket~=0.9->selenium) (0.14.0)\n"
     ]
    }
   ],
   "source": [
    "! pip install requests\n",
    "! pip install beautifulsoup4\n",
    "! pip install pandas\n",
    "! pip install selenium"
   ]
  },
  {
   "cell_type": "markdown",
   "metadata": {
    "id": "sqX9BEXzkW_5"
   },
   "source": [
    "\n",
    "Importing the necessary libraries"
   ]
  },
  {
   "cell_type": "code",
   "execution_count": 3,
   "metadata": {
    "id": "ZGBKx4hVtyf0"
   },
   "outputs": [],
   "source": [
    "from bs4 import BeautifulSoup\n",
    "import requests\n",
    "import pandas as pd\n",
    "import numpy as np\n",
    "import matplotlib.pyplot as plt\n",
    "from scipy.stats import pearsonr"
   ]
  },
  {
   "cell_type": "markdown",
   "metadata": {
    "id": "pJ1nzENKlNQJ"
   },
   "source": [
    "This code scrapes property rate trends from a specified webpage, processes the table data, and returns it in a structured Pandas DataFrame format for analysis."
   ]
  },
  {
   "cell_type": "code",
   "execution_count": 49,
   "metadata": {
    "id": "5FY_49JLb8HA"
   },
   "outputs": [],
   "source": [
    "def fetch_webpage(url):\n",
    "    try:\n",
    "        headers = {\n",
    "            \"User-Agent\": \"Mozilla/5.0 (Windows NT 10.0; Win64; x64) AppleWebKit/537.36 (KHTML, like Gecko) Chrome/114.0.0.0 Safari/537.36\"\n",
    "        }\n",
    "        response = requests.get(url, headers=headers)\n",
    "        response.encoding = 'utf-8'  # Explicitly set encoding to UTF-8\n",
    "        if response.status_code == 200:\n",
    "            print(f\"Webpage fetched successfully: {url}\")\n",
    "            return response.content\n",
    "        else:\n",
    "            print(f\"Failed to fetch the webpage. Status code: {response.status_code}\")\n",
    "            return None\n",
    "    except Exception as e:\n",
    "        print(f\"Error fetching webpage: {e}\")\n",
    "        return None"
   ]
  },
  {
   "cell_type": "code",
   "execution_count": 50,
   "metadata": {
    "id": "ywvw-9QJgHUc"
   },
   "outputs": [],
   "source": [
    "def scrape_page(url):\n",
    "    all_card_data = []\n",
    "    page = fetch_webpage(url)\n",
    "    if page:\n",
    "        soup = BeautifulSoup(page, \"html.parser\")\n",
    "        main_cards = soup.find_all('div', class_='mb-srp__card')\n",
    "\n",
    "\n",
    "        for card in main_cards:\n",
    "            card_data = {}  # Dictionary to store data for this card\n",
    "\n",
    "            # First sub-card with property details\n",
    "            first_card_container = card.find('div', class_='mb-srp__card__container')\n",
    "\n",
    "            if first_card_container:\n",
    "                target_sub_card = first_card_container.find('div', class_='mb-srp__card__info')\n",
    "                if target_sub_card:\n",
    "                    property_name = target_sub_card.find('h2', class_='mb-srp__card--title').get_text(strip=True)\n",
    "                    card_data['Property Name'] = property_name\n",
    "                    details_card = target_sub_card.find('div', class_='mb-srp__card__summary')\n",
    "                    if details_card:\n",
    "                        list_card = details_card.find('div', class_='mb-srp__card__summary__list')\n",
    "                        if list_card:\n",
    "                            list_items = list_card.find_all('div', class_='mb-srp__card__summary__list--item')\n",
    "                            for item in list_items:\n",
    "                                label_div = item.find('div', class_='mb-srp__card__summary--label')\n",
    "                                value_div = item.find('div', class_='mb-srp__card__summary--value')\n",
    "                                if label_div and value_div:\n",
    "                                    column_name = item.get('data-summary', label_div.get_text(strip=True))\n",
    "                                    value = value_div.get_text(strip=True)\n",
    "                                    card_data[column_name] = value\n",
    "\n",
    "\n",
    "            # Second sub-card with total price and price per sqft\n",
    "            second_card = card.find('div', class_='mb-srp__card__estimate')\n",
    "            if second_card:\n",
    "                total_price = second_card.find('div', class_='mb-srp__card__price--amount').get_text(strip=True)\n",
    "                card_data['Total Price'] = total_price\n",
    "\n",
    "            all_card_data.append(card_data)\n",
    "    return all_card_data"
   ]
  },
  {
   "cell_type": "code",
   "execution_count": null,
   "metadata": {
    "id": "rhOvW1AJtSmy"
   },
   "outputs": [],
   "source": []
  },
  {
   "cell_type": "code",
   "execution_count": 51,
   "metadata": {
    "colab": {
     "base_uri": "https://localhost:8080/"
    },
    "id": "z1JIVn7Lsi6B",
    "outputId": "54190953-1490-49a2-c4de-896f2a2ac1db"
   },
   "outputs": [
    {
     "name": "stdout",
     "output_type": "stream",
     "text": [
      "Scraping page 1...\n",
      "Webpage fetched successfully: https://www.magicbricks.com/independent-house-for-rent-in-hyderabad-pppfr/page-1\n",
      "[{'Property Name': '3 BHK House for Rent in PJR Layout, Hyderabad', 'furnishing': 'Semi-Furnished', 'bathroom': '4', 'tenent-preffered': 'Family', 'status': 'Immediately', 'carpet-area': '2653 sqft', 'facing': 'West', 'overlooking': 'Garden/Park', 'balcony': '2', 'Total Price': '₹83,000'}, {'Property Name': '1 BHK House for Rent in Uppal Ramanthapur Road, Hyderabad', 'furnishing': 'Semi-Furnished', 'bathroom': '1', 'tenent-preffered': 'Bachelors/Family', 'status': 'Immediately', 'carpet-area': '420 sqft', 'floor': '1 out of 1', 'facing': 'North', 'overlooking': 'Main Road', 'balcony': '1', 'Total Price': '₹9,000'}, {'Property Name': '2 BHK House for Rent in Ameenpur, Hyderabad', 'furnishing': 'Semi-Furnished', 'bathroom': '2', 'tenent-preffered': 'Bachelors', 'status': 'Immediately', 'carpet-area': '1000 sqft', 'floor': 'Ground out of 2', 'facing': 'East', 'Total Price': '₹19,000'}, {'Property Name': '5 BHK House for Rent in Mokila, Hyderabad', 'furnishing': 'Semi-Furnished', 'bathroom': '5', 'tenent-preffered': 'Bachelors/Family', 'status': 'Immediately', 'super-area': '3600 sqft', 'facing': 'West', 'overlooking': 'Garden/Park', 'balcony': '3', 'Total Price': '₹55,000'}, {'Property Name': '2 BHK House for Rent in Balapur, Hyderabad', 'furnishing': 'Unfurnished', 'bathroom': '2', 'tenent-preffered': 'Bachelors', 'status': 'Immediately', 'carpet-area': '1100 sqft', 'floor': '1 out of 3', 'facing': 'East', 'overlooking': 'Main Road', 'balcony': '1', 'Total Price': '₹9,500'}, {'Property Name': '3 BHK House for Rent in Maheshwaram, Hyderabad', 'furnishing': 'Semi-Furnished', 'bathroom': '3', 'tenent-preffered': 'Bachelors', 'status': 'Immediately', 'carpet-area': '2000 sqft', 'facing': 'West', 'balcony': '1', 'Total Price': '₹45,000'}, {'Property Name': '2 BHK House for Rent in Attapur, Hyderabad', 'furnishing': 'Unfurnished', 'bathroom': '2', 'tenent-preffered': 'Bachelors/Family', 'owner-resides': 'Same Premise', 'status': 'Immediately', 'carpet-area': '100 sqft', 'floor': '2 out of 2', 'facing': 'West', 'overlooking': 'Main Road', 'dimensions': '45 X 20 ft Sqft', 'balcony': '1', 'Total Price': '₹8,000'}, {'Property Name': '2 BHK House for Rent in Gajularamaram, Hyderabad', 'furnishing': 'Semi-Furnished', 'bathroom': '2', 'tenent-preffered': 'Bachelors', 'status': 'Immediately', 'carpet-area': '1000 sqft', 'floor': '1 out of 2', 'facing': 'North - East', 'overlooking': 'Garden/Park, Main Road', 'balcony': '2', 'Total Price': '₹12,000'}, {'Property Name': '3 BHK House for Rent in Hyderabad', 'furnishing': 'Unfurnished', 'bathroom': '1', 'tenent-preffered': 'Bachelors', 'status': 'Immediately', 'carpet-area': '1860 sqft', 'floor': '1 out of 1', 'Total Price': '₹13,500'}, {'Property Name': '2 BHK House for Rent in Rampally, Hyderabad', 'furnishing': 'Semi-Furnished', 'bathroom': '2', 'tenent-preffered': 'Family', 'status': 'Immediately', 'carpet-area': '1200 sqft', 'facing': 'West', 'Total Price': '₹12,000'}, {'Property Name': '2 BHK House for Rent in Nagaram, Hyderabad', 'furnishing': 'Unfurnished', 'bathroom': '2', 'tenent-preffered': 'Bachelors/Family', 'status': 'Immediately', 'carpet-area': '2100 sqft', 'balcony': '2', 'Total Price': '₹8,500'}, {'Property Name': '3 BHK House for Rent in Balapur, Hyderabad', 'furnishing': 'Unfurnished', 'bathroom': '3', 'tenent-preffered': 'Bachelors/Family', 'status': 'Immediately', 'super-area': '2000 sqft', 'floor': 'Ground out of 2', 'facing': 'East', 'overlooking': 'Main Road', 'balcony': '2', 'Total Price': '₹11,000'}, {'Property Name': '2 BHK House for Rent in Ameenpur, Hyderabad', 'furnishing': 'Unfurnished', 'bathroom': '2', 'tenent-preffered': 'Bachelors/Family', 'status': 'Immediately', 'carpet-area': '900 sqft', 'facing': 'East', 'overlooking': 'Main Road', 'dimensions': '26.32 X 38 ft Sqft', 'balcony': '1', 'Total Price': '₹8,500'}, {'Property Name': '3 BHK House for Rent in Kollur, Outer Ring Road, Hyderabad', 'furnishing': 'Semi-Furnished', 'bathroom': '5', 'tenent-preffered': 'Bachelors/Family', 'status': 'Immediately', 'super-area': '3150 sqft', 'facing': 'West', 'balcony': '1', 'Total Price': '₹65,000'}, {'Property Name': '3 BHK House for Rent in Toli Chowki, Hyderabad', 'furnishing': 'Unfurnished', 'bathroom': '2', 'tenent-preffered': 'Family', 'status': 'Immediately', 'super-area': '2000 sqft', 'floor': '4 out of 5', 'facing': 'North', 'balcony': '3', 'Total Price': '₹20,000'}, {'Property Name': '2 BHK House for Rent in Huda Colony Attapur, Hyderabad', 'tenent-preffered': 'Bachelors/Family', 'status': 'Immediately', 'super-area': '1000 sqft', 'Total Price': '₹17,000'}, {'Property Name': '4 BHK House for Rent in Mallampet, Outer Ring Road, Hyderabad', 'furnishing': 'Furnished', 'bathroom': '4', 'tenent-preffered': 'Bachelors', 'status': 'Immediately', 'carpet-area': '2300 sqft', 'facing': 'East', 'overlooking': 'Pool, Garden/Park', 'dimensions': '70 X 50 ft Sqft', 'balcony': '3', 'Total Price': '₹48,000'}, {'Property Name': '4 BHK House for Rent in Malkajgiri, Hyderabad', 'furnishing': 'Unfurnished', 'bathroom': '4', 'tenent-preffered': 'Bachelors/Family', 'status': 'Immediately', 'super-area': '2200 sqft', 'balcony': '1', 'Total Price': '₹15,000'}, {'Property Name': '2 BHK House for Rent in BalReddy Nagar Toli Chowki, Hyderabad', 'furnishing': 'Unfurnished', 'bathroom': '2', 'tenent-preffered': 'Bachelors/Family', 'status': 'Immediately', 'carpet-area': '1500 sqft', 'Total Price': '₹16,500'}, {'Property Name': '1 BHK House for Rent in Hitech City, Hyderabad', 'furnishing': 'Unfurnished', 'bathroom': '1', 'tenent-preffered': 'Bachelors/Family', 'status': 'Immediately', 'super-area': '700 sqft', 'facing': 'East', 'balcony': '2', 'Total Price': '₹13,000'}, {'Property Name': '3 BHK House for Rent in Uppal, NH 2 2, Hyderabad', 'furnishing': 'Furnished', 'bathroom': '4', 'tenent-preffered': 'Bachelors/Family', 'status': 'Immediately', 'super-area': '2330 sqft', 'floor': '3 out of 4', 'Total Price': '₹35,000'}, {'Property Name': '1 BHK House for Rent in Kapra, Hyderabad', 'furnishing': 'Unfurnished', 'bathroom': '1', 'tenent-preffered': 'Bachelors/Family', 'status': 'Immediately', 'super-area': '300 sqft', 'floor': '2 out of 3', 'Total Price': '₹8,000'}, {'Property Name': '4 BHK House for Rent in PNR Colony Ameenpur, Hyderabad', 'furnishing': 'Furnished', 'bathroom': '4', 'tenent-preffered': 'Family', 'status': \"From Apr '25\", 'carpet-area': '2600 sqft', 'balcony': '1', 'Total Price': '₹30,000'}, {'Property Name': '2 BHK House for Rent in Manikonda Jagir, Hyderabad', 'furnishing': 'Semi-Furnished', 'bathroom': '2', 'tenent-preffered': 'Bachelors/Family', 'status': 'Immediately', 'carpet-area': '1260 sqft', 'floor': 'Ground out of 4', 'facing': 'East', 'overlooking': 'Main Road', 'balcony': '2', 'Total Price': '₹22,000'}, {'Property Name': '2 BHK House for Rent in Bayanna Nagar, Secunderabad, Hyderabad', 'furnishing': 'Semi-Furnished', 'bathroom': '2', 'tenent-preffered': 'Family', 'owner-resides': 'Same Premise', 'status': 'Immediately', 'carpet-area': '1000 sqft', 'floor': 'Ground out of 2', 'facing': 'West', 'balcony': '3', 'Total Price': '₹12,000'}, {'Property Name': '2 BHK House for Rent in Boduppal, NH 2 2, Hyderabad', 'furnishing': 'Unfurnished', 'bathroom': '2', 'tenent-preffered': 'Bachelors/Family', 'status': 'Immediately', 'carpet-area': '920 sqft', 'Total Price': '₹8,500'}, {'Property Name': '2 BHK House for Rent in Bolarum, Medchal Road, Hyderabad', 'furnishing': 'Semi-Furnished', 'bathroom': '2', 'tenent-preffered': 'Bachelors/Family', 'status': 'Immediately', 'super-area': '1200 sqft', 'floor': 'Ground out of 1', 'Total Price': '₹18,000'}, {'Property Name': '3 BHK House for Rent in Shaikpet, Hyderabad', 'furnishing': 'Semi-Furnished', 'bathroom': '3', 'tenent-preffered': 'Bachelors/Family', 'status': 'Immediately', 'carpet-area': '2100 sqft', 'floor': '5 out of 5', 'facing': 'East', 'overlooking': 'Garden/Park, Pool, Main Road', 'balcony': '3', 'Total Price': '₹70,000'}, {'Property Name': '5 BHK House for Rent in Tellapur, Outer Ring Road, Hyderabad', 'furnishing': 'Unfurnished', 'bathroom': '6', 'tenent-preffered': 'Bachelors/Family', 'status': 'Immediately', 'super-area': '4000 sqft', 'Total Price': '₹70,000'}, {'Property Name': '3 BHK House for Rent in Jubilee Hills, Hyderabad', 'furnishing': 'Unfurnished', 'bathroom': '3', 'tenent-preffered': 'Bachelors/Family', 'status': 'Immediately', 'carpet-area': '5000 sqft', 'floor': 'Ground out of 1', 'facing': 'North - East', 'overlooking': 'Garden/Park', 'Total Price': '₹1.2 Lac'}]\n"
     ]
    }
   ],
   "source": [
    "page_num=1\n",
    "base_url = \"https://www.magicbricks.com/independent-house-for-rent-in-hyderabad-pppfr\"\n",
    "url = f\"{base_url}/page-{page_num}\"\n",
    "print(f\"Scraping page {page_num}...\")\n",
    "page_data = scrape_page(url)\n",
    "print(page_data)"
   ]
  },
  {
   "cell_type": "code",
   "execution_count": 52,
   "metadata": {
    "id": "nu4QSWZKg2Ls"
   },
   "outputs": [],
   "source": [
    "def scrape_multiple_pages(base_url,numpages):\n",
    "    all_data = []\n",
    "    for page_num in range(1, num_pages + 1):\n",
    "        url = f\"{base_url}/page-{page_num}\"\n",
    "        print(f\"Scraping page {page_num}...\")\n",
    "        page_data = scrape_page(url)\n",
    "        all_data.extend(page_data)\n",
    "    return all_data"
   ]
  },
  {
   "cell_type": "code",
   "execution_count": 53,
   "metadata": {
    "colab": {
     "base_uri": "https://localhost:8080/"
    },
    "id": "LLNluPcZhB3F",
    "outputId": "d4488d14-9bcc-4b23-e775-2aff3eddd835"
   },
   "outputs": [
    {
     "name": "stdout",
     "output_type": "stream",
     "text": [
      "Scraping page 1...\n",
      "Webpage fetched successfully: https://www.magicbricks.com/independent-house-for-rent-in-hyderabad-pppfr/page-1\n",
      "Scraping page 2...\n",
      "Webpage fetched successfully: https://www.magicbricks.com/independent-house-for-rent-in-hyderabad-pppfr/page-2\n",
      "Scraping page 3...\n",
      "Webpage fetched successfully: https://www.magicbricks.com/independent-house-for-rent-in-hyderabad-pppfr/page-3\n",
      "Scraping page 4...\n",
      "Webpage fetched successfully: https://www.magicbricks.com/independent-house-for-rent-in-hyderabad-pppfr/page-4\n",
      "Scraping page 5...\n",
      "Webpage fetched successfully: https://www.magicbricks.com/independent-house-for-rent-in-hyderabad-pppfr/page-5\n",
      "Scraping page 6...\n",
      "Webpage fetched successfully: https://www.magicbricks.com/independent-house-for-rent-in-hyderabad-pppfr/page-6\n",
      "Scraping page 7...\n",
      "Webpage fetched successfully: https://www.magicbricks.com/independent-house-for-rent-in-hyderabad-pppfr/page-7\n",
      "Scraping page 8...\n",
      "Webpage fetched successfully: https://www.magicbricks.com/independent-house-for-rent-in-hyderabad-pppfr/page-8\n",
      "Scraping page 9...\n",
      "Webpage fetched successfully: https://www.magicbricks.com/independent-house-for-rent-in-hyderabad-pppfr/page-9\n",
      "Scraping page 10...\n",
      "Webpage fetched successfully: https://www.magicbricks.com/independent-house-for-rent-in-hyderabad-pppfr/page-10\n",
      "Scraping page 11...\n",
      "Webpage fetched successfully: https://www.magicbricks.com/independent-house-for-rent-in-hyderabad-pppfr/page-11\n",
      "Scraping page 12...\n",
      "Webpage fetched successfully: https://www.magicbricks.com/independent-house-for-rent-in-hyderabad-pppfr/page-12\n",
      "Scraping page 13...\n",
      "Webpage fetched successfully: https://www.magicbricks.com/independent-house-for-rent-in-hyderabad-pppfr/page-13\n",
      "Scraping page 14...\n",
      "Webpage fetched successfully: https://www.magicbricks.com/independent-house-for-rent-in-hyderabad-pppfr/page-14\n",
      "Scraping page 15...\n",
      "Webpage fetched successfully: https://www.magicbricks.com/independent-house-for-rent-in-hyderabad-pppfr/page-15\n",
      "Scraping page 16...\n",
      "Webpage fetched successfully: https://www.magicbricks.com/independent-house-for-rent-in-hyderabad-pppfr/page-16\n",
      "Scraping page 17...\n",
      "Webpage fetched successfully: https://www.magicbricks.com/independent-house-for-rent-in-hyderabad-pppfr/page-17\n",
      "Scraping page 18...\n",
      "Webpage fetched successfully: https://www.magicbricks.com/independent-house-for-rent-in-hyderabad-pppfr/page-18\n",
      "Scraping page 19...\n",
      "Webpage fetched successfully: https://www.magicbricks.com/independent-house-for-rent-in-hyderabad-pppfr/page-19\n",
      "Scraping page 20...\n",
      "Webpage fetched successfully: https://www.magicbricks.com/independent-house-for-rent-in-hyderabad-pppfr/page-20\n",
      "Scraping page 21...\n",
      "Webpage fetched successfully: https://www.magicbricks.com/independent-house-for-rent-in-hyderabad-pppfr/page-21\n",
      "Scraping page 22...\n",
      "Webpage fetched successfully: https://www.magicbricks.com/independent-house-for-rent-in-hyderabad-pppfr/page-22\n",
      "Scraping page 23...\n",
      "Webpage fetched successfully: https://www.magicbricks.com/independent-house-for-rent-in-hyderabad-pppfr/page-23\n",
      "Scraping page 24...\n",
      "Webpage fetched successfully: https://www.magicbricks.com/independent-house-for-rent-in-hyderabad-pppfr/page-24\n",
      "Scraping page 25...\n",
      "Webpage fetched successfully: https://www.magicbricks.com/independent-house-for-rent-in-hyderabad-pppfr/page-25\n",
      "Scraping page 26...\n",
      "Webpage fetched successfully: https://www.magicbricks.com/independent-house-for-rent-in-hyderabad-pppfr/page-26\n",
      "Scraping page 27...\n",
      "Webpage fetched successfully: https://www.magicbricks.com/independent-house-for-rent-in-hyderabad-pppfr/page-27\n",
      "Scraping page 28...\n",
      "Webpage fetched successfully: https://www.magicbricks.com/independent-house-for-rent-in-hyderabad-pppfr/page-28\n",
      "Scraping page 29...\n",
      "Webpage fetched successfully: https://www.magicbricks.com/independent-house-for-rent-in-hyderabad-pppfr/page-29\n",
      "Scraping page 30...\n",
      "Webpage fetched successfully: https://www.magicbricks.com/independent-house-for-rent-in-hyderabad-pppfr/page-30\n",
      "Scraping page 31...\n",
      "Webpage fetched successfully: https://www.magicbricks.com/independent-house-for-rent-in-hyderabad-pppfr/page-31\n",
      "Scraping page 32...\n",
      "Webpage fetched successfully: https://www.magicbricks.com/independent-house-for-rent-in-hyderabad-pppfr/page-32\n",
      "Scraping page 33...\n",
      "Webpage fetched successfully: https://www.magicbricks.com/independent-house-for-rent-in-hyderabad-pppfr/page-33\n",
      "Scraping page 34...\n",
      "Webpage fetched successfully: https://www.magicbricks.com/independent-house-for-rent-in-hyderabad-pppfr/page-34\n",
      "Scraping page 35...\n",
      "Webpage fetched successfully: https://www.magicbricks.com/independent-house-for-rent-in-hyderabad-pppfr/page-35\n",
      "Scraping page 36...\n",
      "Webpage fetched successfully: https://www.magicbricks.com/independent-house-for-rent-in-hyderabad-pppfr/page-36\n",
      "Scraping page 37...\n",
      "Webpage fetched successfully: https://www.magicbricks.com/independent-house-for-rent-in-hyderabad-pppfr/page-37\n",
      "Scraping page 38...\n",
      "Webpage fetched successfully: https://www.magicbricks.com/independent-house-for-rent-in-hyderabad-pppfr/page-38\n",
      "Scraping page 39...\n",
      "Webpage fetched successfully: https://www.magicbricks.com/independent-house-for-rent-in-hyderabad-pppfr/page-39\n",
      "Scraping page 40...\n",
      "Webpage fetched successfully: https://www.magicbricks.com/independent-house-for-rent-in-hyderabad-pppfr/page-40\n",
      "Scraping page 41...\n",
      "Webpage fetched successfully: https://www.magicbricks.com/independent-house-for-rent-in-hyderabad-pppfr/page-41\n",
      "Scraping page 42...\n",
      "Webpage fetched successfully: https://www.magicbricks.com/independent-house-for-rent-in-hyderabad-pppfr/page-42\n",
      "Scraping page 43...\n",
      "Webpage fetched successfully: https://www.magicbricks.com/independent-house-for-rent-in-hyderabad-pppfr/page-43\n",
      "Scraping page 44...\n",
      "Webpage fetched successfully: https://www.magicbricks.com/independent-house-for-rent-in-hyderabad-pppfr/page-44\n",
      "Scraping page 45...\n",
      "Webpage fetched successfully: https://www.magicbricks.com/independent-house-for-rent-in-hyderabad-pppfr/page-45\n",
      "Scraping page 46...\n",
      "Webpage fetched successfully: https://www.magicbricks.com/independent-house-for-rent-in-hyderabad-pppfr/page-46\n",
      "Scraping page 47...\n",
      "Webpage fetched successfully: https://www.magicbricks.com/independent-house-for-rent-in-hyderabad-pppfr/page-47\n",
      "Scraping page 48...\n",
      "Webpage fetched successfully: https://www.magicbricks.com/independent-house-for-rent-in-hyderabad-pppfr/page-48\n",
      "Scraping page 49...\n",
      "Webpage fetched successfully: https://www.magicbricks.com/independent-house-for-rent-in-hyderabad-pppfr/page-49\n",
      "Scraping page 50...\n",
      "Webpage fetched successfully: https://www.magicbricks.com/independent-house-for-rent-in-hyderabad-pppfr/page-50\n",
      "Collected data from 1500 properties.\n"
     ]
    }
   ],
   "source": [
    "# Base URL of the website (without page number)\n",
    "base_url = \"https://www.magicbricks.com/independent-house-for-rent-in-hyderabad-pppfr\"\n",
    "num_pages = 50  # Set the number of pages to scrape\n",
    "\n",
    "# Scrape data from multiple pages\n",
    "all_data = scrape_multiple_pages(base_url, num_pages)\n",
    "\n",
    "# Print the collected data (or you can save it to a file)\n",
    "print(f\"Collected data from {len(all_data)} properties.\")"
   ]
  },
  {
   "cell_type": "code",
   "execution_count": 54,
   "metadata": {
    "id": "dU-dK-s1xJsj"
   },
   "outputs": [],
   "source": [
    "#all_data"
   ]
  },
  {
   "cell_type": "code",
   "execution_count": 55,
   "metadata": {
    "id": "F0mhTKr_w8qH"
   },
   "outputs": [],
   "source": [
    "#Create a DataFrame\n",
    "df = pd.DataFrame(all_data)\n",
    "\n",
    "# Display the DataFrame\n",
    "df\n",
    "\n",
    "# Save to CSV (optional)\n",
    "df.to_csv('properties_data.csv', index=False)\n"
   ]
  },
  {
   "cell_type": "code",
   "execution_count": 56,
   "metadata": {
    "id": "kJlEagDZxH11"
   },
   "outputs": [
    {
     "data": {
      "text/plain": [
       "'page_num=1\\nbase_url = \"https://www.magicbricks.com/independent-house-for-rent-in-new-delhi-pppfr\"\\nurl = f\"{base_url}/page-{page_num}\"\\nprint(f\"Scraping page {page_num}...\")\\npage_data = scrape_page(url)\\nprint(page_data)'"
      ]
     },
     "execution_count": 56,
     "metadata": {},
     "output_type": "execute_result"
    }
   ],
   "source": [
    "\n",
    "'''page_num=1\n",
    "base_url = \"https://www.magicbricks.com/independent-house-for-rent-in-new-delhi-pppfr\"\n",
    "url = f\"{base_url}/page-{page_num}\"\n",
    "print(f\"Scraping page {page_num}...\")\n",
    "page_data = scrape_page(url)\n",
    "print(page_data)'''"
   ]
  },
  {
   "cell_type": "code",
   "execution_count": 58,
   "metadata": {
    "id": "_ClNt_dCgztg"
   },
   "outputs": [
    {
     "data": {
      "text/plain": [
       "'\\nURL for different metro cities\\nhttps://www.magicbricks.com/independent-house-for-rent-in-new-delhi-pppfr\\nhttps://www.magicbricks.com/independent-house-for-rent-in-banglore-pppfr\\nhttps://www.magicbricks.com/independent-house-for-rent-in-pune-pppfr\\nhttps://www.magicbricks.com/independent-house-for-rent-in-mumbai-pppfr\\nhttps://www.magicbricks.com/independent-house-for-rent-in-kolkata-pppfr\\nhttps://www.magicbricks.com/independent-house-for-rent-in-chennai-pppfr\\nhttps://www.magicbricks.com/independent-house-for-rent-in-hyderabad-pppfr\\n'"
      ]
     },
     "execution_count": 58,
     "metadata": {},
     "output_type": "execute_result"
    }
   ],
   "source": [
    "'''\n",
    "URL for different metro cities\n",
    "https://www.magicbricks.com/independent-house-for-rent-in-new-delhi-pppfr\n",
    "https://www.magicbricks.com/independent-house-for-rent-in-banglore-pppfr\n",
    "https://www.magicbricks.com/independent-house-for-rent-in-pune-pppfr\n",
    "https://www.magicbricks.com/independent-house-for-rent-in-mumbai-pppfr\n",
    "https://www.magicbricks.com/independent-house-for-rent-in-kolkata-pppfr\n",
    "https://www.magicbricks.com/independent-house-for-rent-in-chennai-pppfr\n",
    "https://www.magicbricks.com/independent-house-for-rent-in-hyderabad-pppfr\n",
    "'''"
   ]
  },
  {
   "cell_type": "code",
   "execution_count": null,
   "metadata": {},
   "outputs": [],
   "source": []
  }
 ],
 "metadata": {
  "colab": {
   "provenance": []
  },
  "kernelspec": {
   "display_name": "Python 3 (ipykernel)",
   "language": "python",
   "name": "python3"
  },
  "language_info": {
   "codemirror_mode": {
    "name": "ipython",
    "version": 3
   },
   "file_extension": ".py",
   "mimetype": "text/x-python",
   "name": "python",
   "nbconvert_exporter": "python",
   "pygments_lexer": "ipython3",
   "version": "3.10.12"
  }
 },
 "nbformat": 4,
 "nbformat_minor": 4
}
